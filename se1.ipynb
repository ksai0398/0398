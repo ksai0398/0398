{
  "nbformat": 4,
  "nbformat_minor": 0,
  "metadata": {
    "colab": {
      "provenance": [],
      "authorship_tag": "ABX9TyPD6ovKKUiHvxdHZBegSIjn",
      "include_colab_link": true
    },
    "kernelspec": {
      "name": "python3",
      "display_name": "Python 3"
    },
    "language_info": {
      "name": "python"
    }
  },
  "cells": [
    {
      "cell_type": "markdown",
      "metadata": {
        "id": "view-in-github",
        "colab_type": "text"
      },
      "source": [
        "<a href=\"https://colab.research.google.com/github/ksai0398/0398/blob/main/se1.ipynb\" target=\"_parent\"><img src=\"https://colab.research.google.com/assets/colab-badge.svg\" alt=\"Open In Colab\"/></a>"
      ]
    },
    {
      "cell_type": "code",
      "execution_count": null,
      "metadata": {
        "id": "8ZFlN0mRmbb1"
      },
      "outputs": [],
      "source": [
        "#Implementation weather modeling using the quadratic solution in stages:-hard coding variables, keyboard input, read from a file, for a single set input, multiple sets of inputs."
      ]
    },
    {
      "cell_type": "code",
      "source": [
        "# Temperature function\n",
        "def temperature(a,b,c,time):\n",
        "  temp =a*time*time+b*time+c\n",
        "  return temp"
      ],
      "metadata": {
        "id": "bFzOSZHpmdtO"
      },
      "execution_count": null,
      "outputs": []
    },
    {
      "cell_type": "code",
      "source": [
        "# hard coding variables\n",
        "a,b,c = 0.2,4,7\n",
        "time= 5"
      ],
      "metadata": {
        "id": "hw60m5zBmgGo"
      },
      "execution_count": null,
      "outputs": []
    },
    {
      "cell_type": "code",
      "source": [
        "print(\"temperature from hardcoded variable is \",temperature(a,b,c,time))"
      ],
      "metadata": {
        "colab": {
          "base_uri": "https://localhost:8080/"
        },
        "id": "TpBD7POomk39",
        "outputId": "8ec71e27-48a0-4549-ad2c-9d4895ab5f5f"
      },
      "execution_count": null,
      "outputs": [
        {
          "output_type": "stream",
          "name": "stdout",
          "text": [
            "temperature from hardcoded variable is  32.0\n"
          ]
        }
      ]
    },
    {
      "cell_type": "code",
      "source": [
        "# keyboard input\n",
        "a=float(input(\"enter the value of a: \"))\n",
        "b=float(input(\"enter the value of b: \"))\n",
        "c=float(input(\"enter the value of c: \"))\n",
        "time = int(input(\"enter the time:\"))"
      ],
      "metadata": {
        "colab": {
          "base_uri": "https://localhost:8080/"
        },
        "id": "HCyShATMmm4o",
        "outputId": "453f34a4-2174-41b0-ed42-0d1232e80202"
      },
      "execution_count": null,
      "outputs": [
        {
          "name": "stdout",
          "output_type": "stream",
          "text": [
            "enter the value of a: 0.1\n",
            "enter the value of b: 3\n",
            "enter the value of c: 5\n",
            "enter the time:5\n"
          ]
        }
      ]
    },
    {
      "cell_type": "code",
      "source": [
        "print(\"temperature from keyboard input variable is \",temperature(a,b,c,time))"
      ],
      "metadata": {
        "colab": {
          "base_uri": "https://localhost:8080/"
        },
        "id": "fI-RocFlmvcM",
        "outputId": "d4b848be-8c7d-480f-e60b-326dd1f8d9b0"
      },
      "execution_count": null,
      "outputs": [
        {
          "output_type": "stream",
          "name": "stdout",
          "text": [
            "temperature from keyboard input variable is  22.5\n"
          ]
        }
      ]
    },
    {
      "cell_type": "code",
      "source": [
        "# Read from a file\n",
        "def read_from_file(input):\n",
        "    with open('input.txt', 'r') as file:\n",
        "        lines = file.readlines()\n",
        "    input = [tuple(map(float, line.strip().split(','))) for line in lines]\n",
        "    return input"
      ],
      "metadata": {
        "id": "ss0KdbHlmxv-"
      },
      "execution_count": null,
      "outputs": []
    },
    {
      "cell_type": "code",
      "source": [
        "# single set input\n",
        "input = read_from_file('/content/input.txt')\n",
        "a, b, c, time = input[0]  # First set of coefficients\n",
        "print(\"temperature from file with single input is \",temperature(a,b,c,time))"
      ],
      "metadata": {
        "colab": {
          "base_uri": "https://localhost:8080/"
        },
        "id": "G_Tvdy2ZmzNV",
        "outputId": "ebfcdf8c-8088-487b-bf0d-b3aa26dfe4c7"
      },
      "execution_count": null,
      "outputs": [
        {
          "output_type": "stream",
          "name": "stdout",
          "text": [
            "temperature from file with single input is  20.0\n"
          ]
        }
      ]
    },
    {
      "cell_type": "code",
      "source": [
        "#multiple set of inputs\n",
        "for idx, (a,b,c,time) in enumerate(input):\n",
        "  print(\"temperature from file with multiple input is \",temperature(a,b,c,time))"
      ],
      "metadata": {
        "colab": {
          "base_uri": "https://localhost:8080/"
        },
        "id": "ItIVzB19m90h",
        "outputId": "40a3724f-898d-48f9-ef17-8ce17e62bf3a"
      },
      "execution_count": null,
      "outputs": [
        {
          "output_type": "stream",
          "name": "stdout",
          "text": [
            "temperature from file with multiple input is  20.0\n",
            "temperature from file with multiple input is  378.0\n",
            "temperature from file with multiple input is  63.0\n"
          ]
        }
      ]
    }
  ]
}